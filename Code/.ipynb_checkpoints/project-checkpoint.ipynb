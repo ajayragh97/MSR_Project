{
 "cells": [
  {
   "cell_type": "code",
   "execution_count": 1,
   "id": "a35726ab-42f1-4ced-8789-71428cdca3c0",
   "metadata": {},
   "outputs": [],
   "source": [
    "import numpy as np\n",
    "import pandas as pd\n",
    "import matplotlib.pyplot as plt\n",
    "import project"
   ]
  },
  {
   "cell_type": "markdown",
   "id": "3ffaa02c-4a01-46a2-86a2-e0f5185853bb",
   "metadata": {},
   "source": [
    "### Poses got from map -> camera_link, when in mapping mode (localization is False)"
   ]
  },
  {
   "cell_type": "code",
   "execution_count": 2,
   "id": "1086606e-4b7a-44c6-a96f-167539e052d3",
   "metadata": {},
   "outputs": [],
   "source": [
    "path_input = \"../Results/Poses_Results/TF_no_localization/map_camera.txt\"\n",
    "path_output = \"../Results/Poses_Results/TF_no_localization/map_camera_parsed.txt\""
   ]
  },
  {
   "cell_type": "code",
   "execution_count": 3,
   "id": "86b46a0a-a562-484a-be09-cd7d4597801e",
   "metadata": {},
   "outputs": [],
   "source": [
    "project.parse_pose_from_TF(path_input, path_output)"
   ]
  },
  {
   "cell_type": "code",
   "execution_count": 4,
   "id": "b1392495-72c5-49dd-b532-73f35fe55e8d",
   "metadata": {},
   "outputs": [],
   "source": [
    "poses_TF_mapping = pd.read_csv(path_output)"
   ]
  },
  {
   "cell_type": "code",
   "execution_count": 5,
   "id": "69060841-e8c2-48cb-8b89-eb67aadd671c",
   "metadata": {},
   "outputs": [
    {
     "data": {
      "text/html": [
       "<div>\n",
       "<style scoped>\n",
       "    .dataframe tbody tr th:only-of-type {\n",
       "        vertical-align: middle;\n",
       "    }\n",
       "\n",
       "    .dataframe tbody tr th {\n",
       "        vertical-align: top;\n",
       "    }\n",
       "\n",
       "    .dataframe thead th {\n",
       "        text-align: right;\n",
       "    }\n",
       "</style>\n",
       "<table border=\"1\" class=\"dataframe\">\n",
       "  <thead>\n",
       "    <tr style=\"text-align: right;\">\n",
       "      <th></th>\n",
       "      <th>Time</th>\n",
       "      <th>X</th>\n",
       "      <th>Y</th>\n",
       "      <th>Z</th>\n",
       "      <th>Roll</th>\n",
       "      <th>Pitch</th>\n",
       "      <th>Yaw</th>\n",
       "    </tr>\n",
       "  </thead>\n",
       "  <tbody>\n",
       "    <tr>\n",
       "      <th>0</th>\n",
       "      <td>8603.967</td>\n",
       "      <td>0.890</td>\n",
       "      <td>-1.286</td>\n",
       "      <td>0.235</td>\n",
       "      <td>-0.0</td>\n",
       "      <td>-0.0</td>\n",
       "      <td>-2.156</td>\n",
       "    </tr>\n",
       "    <tr>\n",
       "      <th>1</th>\n",
       "      <td>8604.967</td>\n",
       "      <td>0.890</td>\n",
       "      <td>-1.286</td>\n",
       "      <td>0.235</td>\n",
       "      <td>-0.0</td>\n",
       "      <td>-0.0</td>\n",
       "      <td>-2.156</td>\n",
       "    </tr>\n",
       "    <tr>\n",
       "      <th>2</th>\n",
       "      <td>8605.968</td>\n",
       "      <td>0.890</td>\n",
       "      <td>-1.286</td>\n",
       "      <td>0.235</td>\n",
       "      <td>0.0</td>\n",
       "      <td>0.0</td>\n",
       "      <td>-2.156</td>\n",
       "    </tr>\n",
       "    <tr>\n",
       "      <th>3</th>\n",
       "      <td>8606.967</td>\n",
       "      <td>0.891</td>\n",
       "      <td>-1.286</td>\n",
       "      <td>0.235</td>\n",
       "      <td>-0.0</td>\n",
       "      <td>0.0</td>\n",
       "      <td>-2.156</td>\n",
       "    </tr>\n",
       "    <tr>\n",
       "      <th>4</th>\n",
       "      <td>8607.967</td>\n",
       "      <td>0.891</td>\n",
       "      <td>-1.286</td>\n",
       "      <td>0.235</td>\n",
       "      <td>-0.0</td>\n",
       "      <td>0.0</td>\n",
       "      <td>-2.156</td>\n",
       "    </tr>\n",
       "  </tbody>\n",
       "</table>\n",
       "</div>"
      ],
      "text/plain": [
       "       Time      X      Y      Z  Roll  Pitch    Yaw\n",
       "0  8603.967  0.890 -1.286  0.235  -0.0   -0.0 -2.156\n",
       "1  8604.967  0.890 -1.286  0.235  -0.0   -0.0 -2.156\n",
       "2  8605.968  0.890 -1.286  0.235   0.0    0.0 -2.156\n",
       "3  8606.967  0.891 -1.286  0.235  -0.0    0.0 -2.156\n",
       "4  8607.967  0.891 -1.286  0.235  -0.0    0.0 -2.156"
      ]
     },
     "execution_count": 5,
     "metadata": {},
     "output_type": "execute_result"
    }
   ],
   "source": [
    "poses_TF_mapping.head(5)"
   ]
  },
  {
   "cell_type": "code",
   "execution_count": 6,
   "id": "463e646b-650e-48a9-ba2c-8990ade3a57b",
   "metadata": {},
   "outputs": [
    {
     "data": {
      "text/plain": [
       "(195, 7)"
      ]
     },
     "execution_count": 6,
     "metadata": {},
     "output_type": "execute_result"
    }
   ],
   "source": [
    "poses_TF_mapping.shape"
   ]
  },
  {
   "cell_type": "markdown",
   "id": "f0c46900-b0cb-4913-b71b-80b3dcff9ff5",
   "metadata": {},
   "source": [
    "### Poses got from map -> camera_link, when in localization mode (localization is True)"
   ]
  },
  {
   "cell_type": "code",
   "execution_count": 7,
   "id": "99485bbd-638b-4552-ba4a-447dd1958b60",
   "metadata": {},
   "outputs": [],
   "source": [
    "path_input = \"../Results/Poses_Results/TF_with_localization/map_camera.txt\"\n",
    "path_output = \"../Results/Poses_Results/TF_with_localization/map_camera_parsed.txt\""
   ]
  },
  {
   "cell_type": "code",
   "execution_count": 8,
   "id": "ec95c4a6-ecbb-4b31-bccc-190bfe0fcff1",
   "metadata": {},
   "outputs": [],
   "source": [
    "project.parse_pose_from_TF(path_input, path_output)"
   ]
  },
  {
   "cell_type": "code",
   "execution_count": 9,
   "id": "09099b47-6be0-4523-b232-b3c61e27b61d",
   "metadata": {},
   "outputs": [],
   "source": [
    "poses_TF_localization = pd.read_csv(path_output)"
   ]
  },
  {
   "cell_type": "code",
   "execution_count": 10,
   "id": "fa712779-70b3-4ef0-98f8-86c82b672223",
   "metadata": {},
   "outputs": [
    {
     "data": {
      "text/html": [
       "<div>\n",
       "<style scoped>\n",
       "    .dataframe tbody tr th:only-of-type {\n",
       "        vertical-align: middle;\n",
       "    }\n",
       "\n",
       "    .dataframe tbody tr th {\n",
       "        vertical-align: top;\n",
       "    }\n",
       "\n",
       "    .dataframe thead th {\n",
       "        text-align: right;\n",
       "    }\n",
       "</style>\n",
       "<table border=\"1\" class=\"dataframe\">\n",
       "  <thead>\n",
       "    <tr style=\"text-align: right;\">\n",
       "      <th></th>\n",
       "      <th>Time</th>\n",
       "      <th>X</th>\n",
       "      <th>Y</th>\n",
       "      <th>Z</th>\n",
       "      <th>Roll</th>\n",
       "      <th>Pitch</th>\n",
       "      <th>Yaw</th>\n",
       "    </tr>\n",
       "  </thead>\n",
       "  <tbody>\n",
       "    <tr>\n",
       "      <th>0</th>\n",
       "      <td>8603.967</td>\n",
       "      <td>0.89</td>\n",
       "      <td>-1.286</td>\n",
       "      <td>0.235</td>\n",
       "      <td>-0.0</td>\n",
       "      <td>-0.0</td>\n",
       "      <td>-2.156</td>\n",
       "    </tr>\n",
       "    <tr>\n",
       "      <th>1</th>\n",
       "      <td>8604.967</td>\n",
       "      <td>0.89</td>\n",
       "      <td>-1.286</td>\n",
       "      <td>0.235</td>\n",
       "      <td>-0.0</td>\n",
       "      <td>-0.0</td>\n",
       "      <td>-2.156</td>\n",
       "    </tr>\n",
       "    <tr>\n",
       "      <th>2</th>\n",
       "      <td>8605.968</td>\n",
       "      <td>0.89</td>\n",
       "      <td>-1.286</td>\n",
       "      <td>0.235</td>\n",
       "      <td>0.0</td>\n",
       "      <td>0.0</td>\n",
       "      <td>-2.157</td>\n",
       "    </tr>\n",
       "    <tr>\n",
       "      <th>3</th>\n",
       "      <td>8606.967</td>\n",
       "      <td>0.89</td>\n",
       "      <td>-1.287</td>\n",
       "      <td>0.235</td>\n",
       "      <td>-0.0</td>\n",
       "      <td>0.0</td>\n",
       "      <td>-2.156</td>\n",
       "    </tr>\n",
       "    <tr>\n",
       "      <th>4</th>\n",
       "      <td>8607.967</td>\n",
       "      <td>0.89</td>\n",
       "      <td>-1.288</td>\n",
       "      <td>0.235</td>\n",
       "      <td>-0.0</td>\n",
       "      <td>0.0</td>\n",
       "      <td>-2.156</td>\n",
       "    </tr>\n",
       "  </tbody>\n",
       "</table>\n",
       "</div>"
      ],
      "text/plain": [
       "       Time     X      Y      Z  Roll  Pitch    Yaw\n",
       "0  8603.967  0.89 -1.286  0.235  -0.0   -0.0 -2.156\n",
       "1  8604.967  0.89 -1.286  0.235  -0.0   -0.0 -2.156\n",
       "2  8605.968  0.89 -1.286  0.235   0.0    0.0 -2.157\n",
       "3  8606.967  0.89 -1.287  0.235  -0.0    0.0 -2.156\n",
       "4  8607.967  0.89 -1.288  0.235  -0.0    0.0 -2.156"
      ]
     },
     "execution_count": 10,
     "metadata": {},
     "output_type": "execute_result"
    }
   ],
   "source": [
    "poses_TF_localization.head(5)"
   ]
  },
  {
   "cell_type": "code",
   "execution_count": 11,
   "id": "bfe305ef-1409-4d98-862b-38f5224c3964",
   "metadata": {},
   "outputs": [
    {
     "data": {
      "text/plain": [
       "(195, 7)"
      ]
     },
     "execution_count": 11,
     "metadata": {},
     "output_type": "execute_result"
    }
   ],
   "source": [
    "poses_TF_localization.shape"
   ]
  },
  {
   "cell_type": "markdown",
   "id": "5520cdf1-90e3-4cbf-abe2-7fe7a1486383",
   "metadata": {},
   "source": [
    "### Data from camera_info topic (no need to parse, it is always the same)"
   ]
  },
  {
   "cell_type": "code",
   "execution_count": 12,
   "id": "078b8b51-afdc-4146-ba74-5c71637a8588",
   "metadata": {},
   "outputs": [],
   "source": [
    "D = np.array([0.0, 0.0, 0.0, 0.0, 0.0])\n",
    "K = np.array([554.3827128226441, 0.0, 320.5, 0.0, 554.3827128226441, 240.5, 0.0, 0.0, 1.0])"
   ]
  },
  {
   "cell_type": "markdown",
   "id": "25503714-555b-483a-94ca-48a5438c0e8a",
   "metadata": {},
   "source": [
    "# Projection"
   ]
  },
  {
   "cell_type": "code",
   "execution_count": null,
   "id": "3c1b96f6-02f3-402c-a154-7cebefd35ba0",
   "metadata": {},
   "outputs": [],
   "source": []
  },
  {
   "cell_type": "code",
   "execution_count": null,
   "id": "99a5c0ef-d449-4de0-81c1-299945070e36",
   "metadata": {},
   "outputs": [],
   "source": []
  },
  {
   "cell_type": "code",
   "execution_count": null,
   "id": "f4d4651f-752f-475f-97fd-5200ae62bfe7",
   "metadata": {},
   "outputs": [],
   "source": []
  },
  {
   "cell_type": "code",
   "execution_count": null,
   "id": "f637dca1-bbcb-43ed-976d-aaacd5f02206",
   "metadata": {},
   "outputs": [],
   "source": []
  },
  {
   "cell_type": "code",
   "execution_count": null,
   "id": "d72cec54-0802-45b7-af4c-cd5708639d39",
   "metadata": {},
   "outputs": [],
   "source": []
  }
 ],
 "metadata": {
  "kernelspec": {
   "display_name": "Python 3",
   "language": "python",
   "name": "python3"
  },
  "language_info": {
   "codemirror_mode": {
    "name": "ipython",
    "version": 3
   },
   "file_extension": ".py",
   "mimetype": "text/x-python",
   "name": "python",
   "nbconvert_exporter": "python",
   "pygments_lexer": "ipython3",
   "version": "3.9.17"
  }
 },
 "nbformat": 4,
 "nbformat_minor": 5
}
