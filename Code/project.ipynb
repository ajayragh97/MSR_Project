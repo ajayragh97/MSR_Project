{
 "cells": [
  {
   "cell_type": "code",
   "execution_count": 96,
   "id": "a35726ab-42f1-4ced-8789-71428cdca3c0",
   "metadata": {},
   "outputs": [],
   "source": [
    "import numpy as np\n",
    "import pandas as pd\n",
    "import matplotlib.pyplot as plt\n",
    "import project\n",
    "from CMap2D import CMap2D, gridshow\n",
    "import imageio as Image"
   ]
  },
  {
   "cell_type": "markdown",
   "id": "3ffaa02c-4a01-46a2-86a2-e0f5185853bb",
   "metadata": {},
   "source": [
    "### Poses got from map -> camera_link, when in mapping mode (localization is False)"
   ]
  },
  {
   "cell_type": "code",
   "execution_count": 97,
   "id": "1086606e-4b7a-44c6-a96f-167539e052d3",
   "metadata": {},
   "outputs": [],
   "source": [
    "path_input = \"../Results/Poses_Results/TF_no_localization/map_camera.txt\"\n",
    "path_output = \"../Results/Poses_Results/TF_no_localization/map_camera_parsed.txt\""
   ]
  },
  {
   "cell_type": "code",
   "execution_count": 98,
   "id": "86b46a0a-a562-484a-be09-cd7d4597801e",
   "metadata": {},
   "outputs": [],
   "source": [
    "project.parse_pose_from_TF(path_input, path_output)"
   ]
  },
  {
   "cell_type": "code",
   "execution_count": 99,
   "id": "b1392495-72c5-49dd-b532-73f35fe55e8d",
   "metadata": {},
   "outputs": [],
   "source": [
    "poses_TF_mapping = pd.read_csv(path_output)"
   ]
  },
  {
   "cell_type": "code",
   "execution_count": 100,
   "id": "69060841-e8c2-48cb-8b89-eb67aadd671c",
   "metadata": {},
   "outputs": [
    {
     "data": {
      "text/html": [
       "<div>\n",
       "<style scoped>\n",
       "    .dataframe tbody tr th:only-of-type {\n",
       "        vertical-align: middle;\n",
       "    }\n",
       "\n",
       "    .dataframe tbody tr th {\n",
       "        vertical-align: top;\n",
       "    }\n",
       "\n",
       "    .dataframe thead th {\n",
       "        text-align: right;\n",
       "    }\n",
       "</style>\n",
       "<table border=\"1\" class=\"dataframe\">\n",
       "  <thead>\n",
       "    <tr style=\"text-align: right;\">\n",
       "      <th></th>\n",
       "      <th>Time</th>\n",
       "      <th>X</th>\n",
       "      <th>Y</th>\n",
       "      <th>Z</th>\n",
       "      <th>Roll</th>\n",
       "      <th>Pitch</th>\n",
       "      <th>Yaw</th>\n",
       "    </tr>\n",
       "  </thead>\n",
       "  <tbody>\n",
       "    <tr>\n",
       "      <th>0</th>\n",
       "      <td>8603.967</td>\n",
       "      <td>0.890</td>\n",
       "      <td>-1.286</td>\n",
       "      <td>0.235</td>\n",
       "      <td>-0.0</td>\n",
       "      <td>-0.0</td>\n",
       "      <td>-2.156</td>\n",
       "    </tr>\n",
       "    <tr>\n",
       "      <th>1</th>\n",
       "      <td>8604.967</td>\n",
       "      <td>0.890</td>\n",
       "      <td>-1.286</td>\n",
       "      <td>0.235</td>\n",
       "      <td>-0.0</td>\n",
       "      <td>-0.0</td>\n",
       "      <td>-2.156</td>\n",
       "    </tr>\n",
       "    <tr>\n",
       "      <th>2</th>\n",
       "      <td>8605.968</td>\n",
       "      <td>0.890</td>\n",
       "      <td>-1.286</td>\n",
       "      <td>0.235</td>\n",
       "      <td>0.0</td>\n",
       "      <td>0.0</td>\n",
       "      <td>-2.156</td>\n",
       "    </tr>\n",
       "    <tr>\n",
       "      <th>3</th>\n",
       "      <td>8606.967</td>\n",
       "      <td>0.891</td>\n",
       "      <td>-1.286</td>\n",
       "      <td>0.235</td>\n",
       "      <td>-0.0</td>\n",
       "      <td>0.0</td>\n",
       "      <td>-2.156</td>\n",
       "    </tr>\n",
       "    <tr>\n",
       "      <th>4</th>\n",
       "      <td>8607.967</td>\n",
       "      <td>0.891</td>\n",
       "      <td>-1.286</td>\n",
       "      <td>0.235</td>\n",
       "      <td>-0.0</td>\n",
       "      <td>0.0</td>\n",
       "      <td>-2.156</td>\n",
       "    </tr>\n",
       "  </tbody>\n",
       "</table>\n",
       "</div>"
      ],
      "text/plain": [
       "       Time      X      Y      Z  Roll  Pitch    Yaw\n",
       "0  8603.967  0.890 -1.286  0.235  -0.0   -0.0 -2.156\n",
       "1  8604.967  0.890 -1.286  0.235  -0.0   -0.0 -2.156\n",
       "2  8605.968  0.890 -1.286  0.235   0.0    0.0 -2.156\n",
       "3  8606.967  0.891 -1.286  0.235  -0.0    0.0 -2.156\n",
       "4  8607.967  0.891 -1.286  0.235  -0.0    0.0 -2.156"
      ]
     },
     "execution_count": 100,
     "metadata": {},
     "output_type": "execute_result"
    }
   ],
   "source": [
    "poses_TF_mapping.head(5)"
   ]
  },
  {
   "cell_type": "code",
   "execution_count": 101,
   "id": "463e646b-650e-48a9-ba2c-8990ade3a57b",
   "metadata": {},
   "outputs": [
    {
     "data": {
      "text/plain": [
       "(195, 7)"
      ]
     },
     "execution_count": 101,
     "metadata": {},
     "output_type": "execute_result"
    }
   ],
   "source": [
    "poses_TF_mapping.shape"
   ]
  },
  {
   "cell_type": "markdown",
   "id": "f0c46900-b0cb-4913-b71b-80b3dcff9ff5",
   "metadata": {},
   "source": [
    "### Poses got from map -> camera_link, when in localization mode (localization is True)"
   ]
  },
  {
   "cell_type": "code",
   "execution_count": 102,
   "id": "99485bbd-638b-4552-ba4a-447dd1958b60",
   "metadata": {},
   "outputs": [],
   "source": [
    "path_input = \"../Results/Poses_Results/TF_with_localization/map_camera.txt\"\n",
    "path_output = \"../Results/Poses_Results/TF_with_localization/map_camera_parsed.txt\""
   ]
  },
  {
   "cell_type": "code",
   "execution_count": 103,
   "id": "ec95c4a6-ecbb-4b31-bccc-190bfe0fcff1",
   "metadata": {},
   "outputs": [],
   "source": [
    "project.parse_pose_from_TF(path_input, path_output)"
   ]
  },
  {
   "cell_type": "code",
   "execution_count": 104,
   "id": "09099b47-6be0-4523-b232-b3c61e27b61d",
   "metadata": {},
   "outputs": [],
   "source": [
    "poses_TF_localization = pd.read_csv(path_output)"
   ]
  },
  {
   "cell_type": "code",
   "execution_count": 105,
   "id": "fa712779-70b3-4ef0-98f8-86c82b672223",
   "metadata": {},
   "outputs": [
    {
     "data": {
      "text/html": [
       "<div>\n",
       "<style scoped>\n",
       "    .dataframe tbody tr th:only-of-type {\n",
       "        vertical-align: middle;\n",
       "    }\n",
       "\n",
       "    .dataframe tbody tr th {\n",
       "        vertical-align: top;\n",
       "    }\n",
       "\n",
       "    .dataframe thead th {\n",
       "        text-align: right;\n",
       "    }\n",
       "</style>\n",
       "<table border=\"1\" class=\"dataframe\">\n",
       "  <thead>\n",
       "    <tr style=\"text-align: right;\">\n",
       "      <th></th>\n",
       "      <th>Time</th>\n",
       "      <th>X</th>\n",
       "      <th>Y</th>\n",
       "      <th>Z</th>\n",
       "      <th>Roll</th>\n",
       "      <th>Pitch</th>\n",
       "      <th>Yaw</th>\n",
       "    </tr>\n",
       "  </thead>\n",
       "  <tbody>\n",
       "    <tr>\n",
       "      <th>0</th>\n",
       "      <td>8603.967</td>\n",
       "      <td>0.89</td>\n",
       "      <td>-1.286</td>\n",
       "      <td>0.235</td>\n",
       "      <td>-0.0</td>\n",
       "      <td>-0.0</td>\n",
       "      <td>-2.156</td>\n",
       "    </tr>\n",
       "    <tr>\n",
       "      <th>1</th>\n",
       "      <td>8604.967</td>\n",
       "      <td>0.89</td>\n",
       "      <td>-1.286</td>\n",
       "      <td>0.235</td>\n",
       "      <td>-0.0</td>\n",
       "      <td>-0.0</td>\n",
       "      <td>-2.156</td>\n",
       "    </tr>\n",
       "    <tr>\n",
       "      <th>2</th>\n",
       "      <td>8605.968</td>\n",
       "      <td>0.89</td>\n",
       "      <td>-1.286</td>\n",
       "      <td>0.235</td>\n",
       "      <td>0.0</td>\n",
       "      <td>0.0</td>\n",
       "      <td>-2.157</td>\n",
       "    </tr>\n",
       "    <tr>\n",
       "      <th>3</th>\n",
       "      <td>8606.967</td>\n",
       "      <td>0.89</td>\n",
       "      <td>-1.287</td>\n",
       "      <td>0.235</td>\n",
       "      <td>-0.0</td>\n",
       "      <td>0.0</td>\n",
       "      <td>-2.156</td>\n",
       "    </tr>\n",
       "    <tr>\n",
       "      <th>4</th>\n",
       "      <td>8607.967</td>\n",
       "      <td>0.89</td>\n",
       "      <td>-1.288</td>\n",
       "      <td>0.235</td>\n",
       "      <td>-0.0</td>\n",
       "      <td>0.0</td>\n",
       "      <td>-2.156</td>\n",
       "    </tr>\n",
       "  </tbody>\n",
       "</table>\n",
       "</div>"
      ],
      "text/plain": [
       "       Time     X      Y      Z  Roll  Pitch    Yaw\n",
       "0  8603.967  0.89 -1.286  0.235  -0.0   -0.0 -2.156\n",
       "1  8604.967  0.89 -1.286  0.235  -0.0   -0.0 -2.156\n",
       "2  8605.968  0.89 -1.286  0.235   0.0    0.0 -2.157\n",
       "3  8606.967  0.89 -1.287  0.235  -0.0    0.0 -2.156\n",
       "4  8607.967  0.89 -1.288  0.235  -0.0    0.0 -2.156"
      ]
     },
     "execution_count": 105,
     "metadata": {},
     "output_type": "execute_result"
    }
   ],
   "source": [
    "poses_TF_localization.head(5)"
   ]
  },
  {
   "cell_type": "code",
   "execution_count": 106,
   "id": "bfe305ef-1409-4d98-862b-38f5224c3964",
   "metadata": {},
   "outputs": [
    {
     "data": {
      "text/plain": [
       "(195, 7)"
      ]
     },
     "execution_count": 106,
     "metadata": {},
     "output_type": "execute_result"
    }
   ],
   "source": [
    "poses_TF_localization.shape"
   ]
  },
  {
   "cell_type": "markdown",
   "id": "5520cdf1-90e3-4cbf-abe2-7fe7a1486383",
   "metadata": {},
   "source": [
    "### Data from camera_info topic (no need to parse, it is always the same)"
   ]
  },
  {
   "cell_type": "code",
   "execution_count": 107,
   "id": "078b8b51-afdc-4146-ba74-5c71637a8588",
   "metadata": {},
   "outputs": [],
   "source": [
    "D = np.array([0.0, 0.0, 0.0, 0.0, 0.0])\n",
    "K = np.array([554.3827128226441, 0.0, 320.5, 0.0, 554.3827128226441, 240.5, 0.0, 0.0, 1.0])"
   ]
  },
  {
   "cell_type": "markdown",
   "id": "25503714-555b-483a-94ca-48a5438c0e8a",
   "metadata": {},
   "source": [
    "# Projection"
   ]
  },
  {
   "cell_type": "markdown",
   "id": "a3853b75",
   "metadata": {},
   "source": [
    "### Trajectory"
   ]
  },
  {
   "cell_type": "code",
   "execution_count": 108,
   "id": "3c1b96f6-02f3-402c-a154-7cebefd35ba0",
   "metadata": {},
   "outputs": [
    {
     "name": "stdout",
     "output_type": "stream",
     "text": [
      "Loading map definition from ../Results/Map/rtabmap.yaml\n",
      "Map definition found. Loading map from ../Results/Map/rtabmap.pgm\n",
      "(195, 2)\n"
     ]
    },
    {
     "data": {
      "text/plain": [
       "<matplotlib.collections.PathCollection at 0x7fb04e6a0160>"
      ]
     },
     "execution_count": 108,
     "metadata": {},
     "output_type": "execute_result"
    },
    {
     "data": {
      "image/png": "[encoded data removed]",
      "text/plain": [
       "<Figure size 1500x1500 with 1 Axes>"
      ]
     },
     "metadata": {},
     "output_type": "display_data"
    }
   ],
   "source": [
    "map = CMap2D(\"../Results/Map\", \"rtabmap\")\n",
    "occ_grid = map.occupancy()\n",
    "origin = map.origin_xy()\n",
    "x = poses_TF_localization['X']\n",
    "y = poses_TF_localization['Y']\n",
    "positions = np.zeros((x.shape[0],2))\n",
    "print(positions.shape)\n",
    "positions[:,0] = x\n",
    "positions[:,1] = y\n",
    "ij_positions = map.xy_to_ij(positions)\n",
    "plt.figure(figsize=(15,15))\n",
    "gridshow(occ_grid, cmap='Greys')\n",
    "plt.scatter(ij_positions[:,0], ij_positions[:,1], s=7, )\n",
    "\n",
    "# occ_grid[ij_positions[:,0], ij_positions[:,1]]"
   ]
  },
  {
   "cell_type": "markdown",
   "id": "62038150",
   "metadata": {},
   "source": [
    "### init position"
   ]
  },
  {
   "cell_type": "code",
   "execution_count": 109,
   "id": "f4d4651f-752f-475f-97fd-5200ae62bfe7",
   "metadata": {},
   "outputs": [
    {
     "data": {
      "text/plain": [
       "<matplotlib.collections.PathCollection at 0x7fb04e6e44c0>"
      ]
     },
     "execution_count": 109,
     "metadata": {},
     "output_type": "execute_result"
    },
    {
     "data": {
      "image/png": "[encoded data removed]",
      "text/plain": [
       "<Figure size 1500x1500 with 1 Axes>"
      ]
     },
     "metadata": {},
     "output_type": "display_data"
    }
   ],
   "source": [
    "plt.figure(figsize=(15,15))\n",
    "gridshow(occ_grid)\n",
    "plt.scatter(ij_positions[0,0], ij_positions[0,1], s=25, )"
   ]
  },
  {
   "cell_type": "markdown",
   "id": "532891e6",
   "metadata": {},
   "source": [
    "### Transform from camera frame to map frame (single image)"
   ]
  },
  {
   "cell_type": "code",
   "execution_count": 110,
   "id": "f637dca1-bbcb-43ed-976d-aaacd5f02206",
   "metadata": {},
   "outputs": [
    {
     "name": "stdout",
     "output_type": "stream",
     "text": [
      "[255 120  70]\n"
     ]
    },
    {
     "name": "stderr",
     "output_type": "stream",
     "text": [
      "/tmp/ipykernel_10174/2300399959.py:6: DeprecationWarning: Starting with ImageIO v3 the behavior of this function will switch to that of iio.v3.imread. To keep the current behavior (and make this warning disappear) use `import imageio.v2 as imageio` or call `imageio.v2.imread` directly.\n",
      "  img = Image.imread(\"../Results/RGBD/segment/8603.168000.jpg\")\n",
      "/tmp/ipykernel_10174/2300399959.py:7: DeprecationWarning: Starting with ImageIO v3 the behavior of this function will switch to that of iio.v3.imread. To keep the current behavior (and make this warning disappear) use `import imageio.v2 as imageio` or call `imageio.v2.imread` directly.\n",
      "  depth = Image.imread(\"../Results/RGBD/depth/8603.168000.png\")\n"
     ]
    }
   ],
   "source": [
    "# camera intrinsic\n",
    "K = K.reshape(3,3)\n",
    "K_inv = np.linalg.inv(K)\n",
    "\n",
    "#segmented image\n",
    "img = Image.imread(\"../Results/RGBD/segment/8603.168000.jpg\")\n",
    "depth = Image.imread(\"../Results/RGBD/depth/8603.168000.png\")\n",
    "\n",
    "print(img[479,639,:])"
   ]
  },
  {
   "cell_type": "markdown",
   "id": "0b68eb15",
   "metadata": {},
   "source": [
    "### 3D points in Camera Frame"
   ]
  },
  {
   "cell_type": "code",
   "execution_count": 111,
   "id": "d72cec54-0802-45b7-af4c-cd5708639d39",
   "metadata": {},
   "outputs": [],
   "source": [
    "pixels = np.zeros((640*480, 3))\n",
    "z = np.zeros((640*480, 1))\n",
    "count = 0\n",
    "for i in range(img.shape[1]):\n",
    "    for j in range(img.shape[0]):\n",
    "        pixels[count, :] = [i,j,1]\n",
    "        z[count,:] = depth[j,i]/1000\n",
    "        count +=1"
   ]
  },
  {
   "cell_type": "markdown",
   "id": "228b0d54",
   "metadata": {},
   "source": [
    "#### transform from pixel to camera frame"
   ]
  },
  {
   "cell_type": "code",
   "execution_count": 113,
   "id": "84fd7623",
   "metadata": {},
   "outputs": [
    {
     "name": "stdout",
     "output_type": "stream",
     "text": [
      "[[-0.57812048 -0.43381584  1.        ]\n",
      " [-0.57812048 -0.43201203  1.        ]\n",
      " [-0.57812048 -0.43020822  1.        ]\n",
      " ...\n",
      " [ 0.57451286  0.4266006   1.        ]\n",
      " [ 0.57451286  0.42840441  1.        ]\n",
      " [ 0.57451286  0.43020822  1.        ]]\n"
     ]
    }
   ],
   "source": [
    "camera_frame = (np.matmul(K_inv, pixels.T)).T\n",
    "print(camera_frame)"
   ]
  },
  {
   "cell_type": "code",
   "execution_count": 114,
   "id": "a689dcd4",
   "metadata": {},
   "outputs": [
    {
     "name": "stdout",
     "output_type": "stream",
     "text": [
      "[[-1.75517378 -1.31706488  3.036     ]\n",
      " [-1.75690814 -1.31288455  3.039     ]\n",
      " [-1.75690814 -1.30740278  3.039     ]\n",
      " ...\n",
      " [ 0.2947251   0.21884611  0.513     ]\n",
      " [ 0.29357607  0.21891465  0.511     ]\n",
      " [ 0.29242705  0.21897598  0.509     ]]\n"
     ]
    }
   ],
   "source": [
    "camera_frame = camera_frame * z\n",
    "print(camera_frame)"
   ]
  },
  {
   "cell_type": "markdown",
   "id": "1155cc2d",
   "metadata": {},
   "source": [
    "### Tranform from camera frame to map frame"
   ]
  },
  {
   "cell_type": "code",
   "execution_count": 127,
   "id": "fdfa8737",
   "metadata": {},
   "outputs": [],
   "source": [
    "def homogenous(roll, pitch, yaw, translation):\n",
    "    cos_r = np.cos(roll)\n",
    "    sin_r = np.sin(roll)\n",
    "    cos_p = np.cos(pitch)\n",
    "    sin_p = np.sin(pitch)\n",
    "    cos_y = np.cos(yaw)\n",
    "    sin_y = np.sin(yaw) \n",
    "\n",
    "    # print(translation.shape)\n",
    "    rotation = np.array([[cos_p*cos_y, -cos_r*sin_y + sin_r*sin_p*cos_y, sin_r*sin_y + cos_r*sin_p*cos_y],\n",
    "                        [cos_p*sin_y, cos_r*cos_y + sin_r*sin_p*sin_y, -sin_r*cos_y + cos_r*sin_p*sin_y],\n",
    "                        [-sin_p, sin_r*cos_p, cos_r*cos_p]])\n",
    "\n",
    "\n",
    "    homogeneous_matrix = np.eye(4)\n",
    "    homogeneous_matrix[:3, :3] = rotation[:]\n",
    "    homogeneous_matrix[:3, 3:] = translation.reshape([-1,1])\n",
    "\n",
    "    return homogeneous_matrix"
   ]
  },
  {
   "cell_type": "code",
   "execution_count": 128,
   "id": "25e30d0f",
   "metadata": {},
   "outputs": [],
   "source": [
    "n_r_t = np.zeros((poses_TF_localization.shape[0], 4, 4))\n",
    "for i in range(poses_TF_localization.shape[0]):\n",
    "    tx = poses_TF_localization['X'][i]\n",
    "    ty = poses_TF_localization['Y'][i]\n",
    "    tz = poses_TF_localization['Z'][i]\n",
    "    translation = np.array([[tx, ty, tz]])\n",
    "    roll = poses_TF_localization['Roll'][i]\n",
    "    pitch = poses_TF_localization['Pitch'][i]\n",
    "    yaw = poses_TF_localization['Yaw'][i]\n",
    "    n_r_t[i] = homogenous(roll, pitch, yaw, translation)\n"
   ]
  },
  {
   "cell_type": "code",
   "execution_count": 130,
   "id": "cbc06a77",
   "metadata": {},
   "outputs": [],
   "source": [
    "camera_frame_homo = np.ones((camera_frame.shape[0], 4))\n",
    "camera_frame_homo[:,0:3] = camera_frame[:,:]"
   ]
  },
  {
   "cell_type": "code",
   "execution_count": 163,
   "id": "e9aca3a5",
   "metadata": {},
   "outputs": [],
   "source": [
    "H_inv = np.linalg.inv(n_r_t[0])\n",
    "map_frame = (np.matmul(H_inv, camera_frame_homo.T)).T"
   ]
  },
  {
   "cell_type": "code",
   "execution_count": 188,
   "id": "2d78c77c",
   "metadata": {},
   "outputs": [],
   "source": [
    "map_frame_xy = map_frame[:,[0,1]]\n",
    "map_frame_xy = map_frame_xy.copy(order='C')\n",
    "map_frame_ij = map.xy_to_ij(map_frame_xy)"
   ]
  },
  {
   "cell_type": "code",
   "execution_count": 168,
   "id": "bd3d7e07",
   "metadata": {},
   "outputs": [
    {
     "data": {
      "text/plain": [
       "(307200, 2)"
      ]
     },
     "execution_count": 168,
     "metadata": {},
     "output_type": "execute_result"
    }
   ],
   "source": [
    "map_frame_ij.shape"
   ]
  },
  {
   "cell_type": "code",
   "execution_count": 189,
   "id": "deda0b3d",
   "metadata": {},
   "outputs": [
    {
     "data": {
      "text/plain": [
       "<matplotlib.collections.PathCollection at 0x7fb0459d2bc0>"
      ]
     },
     "execution_count": 189,
     "metadata": {},
     "output_type": "execute_result"
    },
    {
     "data": {
      "image/png": "[encoded data removed]",
      "text/plain": [
       "<Figure size 1500x1500 with 1 Axes>"
      ]
     },
     "metadata": {},
     "output_type": "display_data"
    }
   ],
   "source": [
    "r = 20\n",
    "plt.figure(figsize=(15,15))\n",
    "gridshow(occ_grid)\n",
    "\n",
    "dx = r * np.cos(poses_TF_localization['Yaw'][0])\n",
    "dy = r * np.sin(poses_TF_localization['Yaw'][0])\n",
    "x = ij_positions[0,0]\n",
    "y = ij_positions[0,1]\n",
    "plt.scatter(map_frame_ij[:,0], map_frame_ij[:, 1], s=25, c= 'b')\n",
    "plt.arrow(x, y, dx, dy, width=1, ec='r', fc='g')\n",
    "plt.scatter(ij_positions[0,0], ij_positions[0,1], s=25 , c='r')"
   ]
  }
 ],
 "metadata": {
  "kernelspec": {
   "display_name": "Python 3",
   "language": "python",
   "name": "python3"
  },
  "language_info": {
   "codemirror_mode": {
    "name": "ipython",
    "version": 3
   },
   "file_extension": ".py",
   "mimetype": "text/x-python",
   "name": "python",
   "nbconvert_exporter": "python",
   "pygments_lexer": "ipython3",
   "version": "3.10.9"
  }
 },
 "nbformat": 4,
 "nbformat_minor": 5
}
