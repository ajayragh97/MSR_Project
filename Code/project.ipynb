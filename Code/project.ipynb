{
 "cells": [
  {
   "cell_type": "code",
   "execution_count": null,
   "metadata": {},
   "outputs": [],
   "source": [
    "# !pip install pymap2d\n",
    "# !pip install shapely"
   ]
  },
  {
   "cell_type": "code",
   "execution_count": 1,
   "metadata": {},
   "outputs": [],
   "source": [
    "import numpy as np\n",
    "import pandas as pd\n",
    "import matplotlib.pyplot as plt\n",
    "import project\n",
    "from CMap2D import CMap2D, gridshow\n",
    "import imageio as Image\n",
    "import glob\n",
    "from scipy.spatial.transform import Rotation as R\n",
    "import os\n",
    "from scipy.special import softmax\n",
    "from shapely.geometry import Point\n",
    "from shapely.geometry.polygon import Polygon\n",
    "from PIL import Image"
   ]
  },
  {
   "cell_type": "markdown",
   "metadata": {},
   "source": [
    "## Loading poses with localization (tf_echo map -> camera_link)"
   ]
  },
  {
   "cell_type": "code",
   "execution_count": null,
   "metadata": {},
   "outputs": [],
   "source": [
    "path_input = \"../Results/Poses_Results/TF_with_localization/map_camera.txt\"\n",
    "path_output = \"../Results/Poses_Results/TF_with_localization/map_camera_parsed.txt\"\n",
    "\n",
    "project.parse_pose_from_TF(path_input, path_output)\n",
    "poses_TF_localization = pd.read_csv(path_output)"
   ]
  },
  {
   "cell_type": "code",
   "execution_count": null,
   "metadata": {},
   "outputs": [],
   "source": [
    "poses_TF_localization.head(5)"
   ]
  },
  {
   "cell_type": "markdown",
   "metadata": {},
   "source": [
    "### Load the occupancy grid and visualise the poses on the occupancy grid to see the trajectory of robot"
   ]
  },
  {
   "cell_type": "code",
   "execution_count": null,
   "metadata": {},
   "outputs": [],
   "source": [
    "map = CMap2D(\"../Results/Map\", \"rtabmap\")\n",
    "occ_grid = map.occupancy()\n",
    "origin = map.origin_xy()\n",
    "x = poses_TF_localization['X']\n",
    "y = poses_TF_localization['Y']\n",
    "positions = np.zeros((x.shape[0],2))\n",
    "print(positions.shape)\n",
    "positions[:,0] = x\n",
    "positions[:,1] = y\n",
    "ij_positions = map.xy_to_ij(positions)\n",
    "plt.figure(figsize=(15,15))\n",
    "gridshow(occ_grid, cmap='Greys')\n",
    "plt.scatter(ij_positions[:,0], ij_positions[:,1], s=7, )\n",
    "print(\"map origin spatial:\", origin)\n",
    "\n",
    "origin_ij = map.xy_to_ij(origin.reshape(1,-1))\n",
    "print(\"origin ij:\", origin_ij)\n"
   ]
  },
  {
   "cell_type": "markdown",
   "metadata": {},
   "source": [
    "### Load an rgb image and create the array of pixel coordinates"
   ]
  },
  {
   "cell_type": "code",
   "execution_count": null,
   "metadata": {},
   "outputs": [],
   "source": [
    "img = Image.v2.imread(\"../Results/RGBD/segment/8603.168000.jpg\")\n",
    "\n",
    "pixels = np.zeros((img.shape[1]*img.shape[0], 3), int)\n",
    "count = 0\n",
    "for i in range(img.shape[1]):\n",
    "    for j in range(img.shape[0]):\n",
    "        pixels[count, :] = [i,j,1]\n",
    "        count +=1"
   ]
  },
  {
   "cell_type": "markdown",
   "metadata": {},
   "source": [
    "### initialise the values for camera intrinsic matrix"
   ]
  },
  {
   "cell_type": "code",
   "execution_count": null,
   "metadata": {},
   "outputs": [],
   "source": [
    "K = np.array([554.3827128226441, 0.0, 320.5, 0.0, 554.3827128226441, 240.5, 0.0, 0.0, 1.0])\n",
    "# camera intrinsic matrix\n",
    "K = K.reshape(3,3)\n",
    "K_inv = np.linalg.inv(K)"
   ]
  },
  {
   "cell_type": "markdown",
   "metadata": {},
   "source": [
    "### Convert the pixel coordinates into camera rgb frame. \n",
    "(Currently the coordinates in this frame will be in canonical frame. we need to bring this into optical fram which is the camera frame)"
   ]
  },
  {
   "cell_type": "code",
   "execution_count": null,
   "metadata": {},
   "outputs": [],
   "source": [
    "camera_rgb_frame = (np.matmul(K_inv, pixels.T)).T # dimension [n,3]"
   ]
  },
  {
   "cell_type": "markdown",
   "metadata": {},
   "source": [
    "### create matrix of depth values for all the images"
   ]
  },
  {
   "cell_type": "code",
   "execution_count": null,
   "metadata": {},
   "outputs": [],
   "source": [
    "depth_dir = '../Results/RGBD/depth/*.png'\n",
    "depth_images = sorted(glob.glob(depth_dir))\n",
    "\n",
    "z = np.zeros((len(depth_images), pixels.shape[0], 1))\n",
    "for i in range(z.shape[0]):\n",
    "    depth = Image.v2.imread(depth_images[i])\n",
    "    for j in range(z.shape[1]):\n",
    "        z[i,j,0] = depth[int(pixels[j,1]), int(pixels[j,0])] / 1000\n",
    "    print(i)"
   ]
  },
  {
   "cell_type": "markdown",
   "metadata": {},
   "source": [
    "### Create function to make homogenous transformation matrix"
   ]
  },
  {
   "cell_type": "code",
   "execution_count": null,
   "metadata": {},
   "outputs": [],
   "source": [
    "def homogenous(roll, pitch, yaw, translation):\n",
    "    rotation = R.from_euler('xyz', [roll, pitch, yaw])\n",
    "    rotation = rotation.as_matrix()\n",
    "    # translation = -np.matmul(rotation, translation)\n",
    "    homogeneous_matrix = np.eye(4)\n",
    "    homogeneous_matrix[:3, :3] = rotation\n",
    "    homogeneous_matrix[:3, 3:] = translation\n",
    "\n",
    "    return homogeneous_matrix"
   ]
  },
  {
   "cell_type": "markdown",
   "metadata": {},
   "source": [
    "### Create function to plot the map with the transformed point coordinates"
   ]
  },
  {
   "cell_type": "code",
   "execution_count": null,
   "metadata": {},
   "outputs": [],
   "source": [
    "def plot_scatter(i, ij_positions, poses,map_frame):\n",
    "    global depth_images\n",
    "    r = 20\n",
    "    plt.figure(figsize=(15,15))\n",
    "    gridshow(occ_grid)\n",
    "\n",
    "    dx = r * np.cos(poses['Yaw'][i])\n",
    "    dy = r * np.sin(poses['Yaw'][i])\n",
    "    x = ij_positions[i,0]\n",
    "    y = ij_positions[i,1]\n",
    "\n",
    "    name = os.path.basename(depth_images[i])\n",
    "    plt.scatter(map_frame[:,1], map_frame[:, 0], s=25, c= 'b')\n",
    "    plt.arrow(x, y, dx, dy, width=1, ec='r', fc='g')\n",
    "    plt.scatter(x, y, s=25 , c='r')\n",
    "    plt.savefig(\"../Results/plots/{}\".format(name))\n",
    "    plt.close()"
   ]
  },
  {
   "cell_type": "markdown",
   "metadata": {},
   "source": [
    "### create matrix of transformation from canonical frame to optical frame"
   ]
  },
  {
   "cell_type": "code",
   "execution_count": null,
   "metadata": {},
   "outputs": [],
   "source": [
    "roll = -1.571\n",
    "pitch = 0.00\n",
    "yaw = -1.571\n",
    "translation = np.array([[0.00, 0.00, 0.00]]).T\n",
    "H = homogenous(roll, pitch, yaw, translation)"
   ]
  },
  {
   "cell_type": "markdown",
   "metadata": {},
   "source": [
    "### create matrix of tranformation matrix from camera frame to map frame"
   ]
  },
  {
   "cell_type": "code",
   "execution_count": null,
   "metadata": {},
   "outputs": [],
   "source": [
    "n_r_t = np.zeros((poses_TF_localization.shape[0], 4, 4))\n",
    "for i in range(poses_TF_localization.shape[0]):\n",
    "    tx = poses_TF_localization['X'][i]\n",
    "    ty = poses_TF_localization['Y'][i]\n",
    "    tz = poses_TF_localization['Z'][i]\n",
    "    translation = np.array([[tx, ty, tz]]).T\n",
    "    roll = poses_TF_localization['Roll'][i]\n",
    "    pitch = poses_TF_localization['Pitch'][i]\n",
    "    yaw = poses_TF_localization['Yaw'][i]\n",
    "    n_r_t[i] = homogenous(roll, pitch, yaw, translation)\n"
   ]
  },
  {
   "cell_type": "markdown",
   "metadata": {},
   "source": [
    "### Final loop\n",
    "We first multiply the pixel coordinates with the corresponding depth values associated with the image.\n",
    "\n",
    "Then convert these coordinates which are currently in canonical frame into optical frame / camera frame.\n",
    "\n",
    "Then convert these coordinates from the optical frame into the map frame. "
   ]
  },
  {
   "cell_type": "code",
   "execution_count": null,
   "metadata": {},
   "outputs": [],
   "source": [
    "mask = False\n",
    "for i in range(z.shape[0]):\n",
    "    zi = z[i]\n",
    "    \n",
    "    #multiply depth\n",
    "    camera_rgb_frame_z = (camera_rgb_frame * zi)\n",
    "    \n",
    "    #convert camera_rgb_frame into homogenous dimension\n",
    "    ones = np.ones((z.shape[1],1))\n",
    "    camera_rgb_frame_homo = np.column_stack((camera_rgb_frame_z,ones))\n",
    "\n",
    "    #transform from canonical frame to optical frame ie camera frame\n",
    "    camera_frame = H @ camera_rgb_frame_homo.T\n",
    "\n",
    "    #transform from camera frame to map frame\n",
    "    map_frame = (n_r_t[i] @ camera_frame).T\n",
    "\n",
    "    if(mask):\n",
    "        map_height_mask = map_frame[:,2] > np.mean(map_frame[:,2])\n",
    "        map_frame_masked = map_frame[map_height_mask]\n",
    "        map_frame_xy = map_frame_masked[:,[0,1]]\n",
    "\n",
    "    #convert the coordinates from spatial coordinates (x,y) to ij coordinates to plot in occupancy grid\n",
    "    else:\n",
    "        map_frame_xy = map_frame[:,[0,1]]\n",
    "    map_frame_xy = map_frame_xy.copy(order='C')\n",
    "    map_frame_floatij = map.xy_to_floatij(map_frame_xy)\n",
    "    # plot_scatter(i, ij_positions, poses_TF_localization, map_frame_floatij)\n",
    "    "
   ]
  },
  {
   "cell_type": "markdown",
   "metadata": {},
   "source": [
    "### Create visualisation from plots"
   ]
  },
  {
   "cell_type": "code",
   "execution_count": null,
   "metadata": {},
   "outputs": [],
   "source": [
    "images_dir  = \"../Results/plots/*.png\"\n",
    "images = sorted(glob.glob(images_dir))\n",
    "image = []\n",
    "for idx,i in enumerate(images):\n",
    "    img = Image.v2.imread(i)\n",
    "    image.append(img)\n",
    "\n",
    "Image.mimsave('../images/camera_motion.gif', image, fps= 10)"
   ]
  },
  {
   "cell_type": "markdown",
   "metadata": {},
   "source": [
    "### Camera motion visualisation"
   ]
  },
  {
   "cell_type": "code",
   "execution_count": null,
   "metadata": {},
   "outputs": [],
   "source": [
    "from IPython.display import Image as im\n",
    "im(url='../images/camera_motion.gif')  \n"
   ]
  },
  {
   "cell_type": "markdown",
   "metadata": {},
   "source": [
    "### Experiments (to be removed)"
   ]
  },
  {
   "cell_type": "markdown",
   "metadata": {},
   "source": [
    "#### loading the labels\n",
    "The labels are of the dimension  [width*height, number of label classes] .\n",
    "\n",
    "The values are obtained from the last layer of esanet and hence are the probability gradients predicted by esanet for each label class."
   ]
  },
  {
   "cell_type": "code",
   "execution_count": null,
   "metadata": {},
   "outputs": [],
   "source": [
    "labels_dir = \"../../gradients/*.npy\"\n",
    "labels = sorted(glob.glob(labels_dir))"
   ]
  },
  {
   "cell_type": "markdown",
   "metadata": {},
   "source": [
    "### assigning labels by adding up all the probabilities that points to the same cell or by multiplying the new probabilities for each label with its previous probability in the same cell"
   ]
  },
  {
   "cell_type": "code",
   "execution_count": null,
   "metadata": {},
   "outputs": [],
   "source": [
    "occ_grid_colorized = np.ones((occ_grid.shape[0], occ_grid.shape[1], 3), np.uint8) * 255\n",
    "mask_height = True\n",
    "occ_labels = {}\n",
    "for i in range(z.shape[0]):\n",
    "    zi = z[i]\n",
    "    \n",
    "    #multiply depth\n",
    "    \"\"\"The depth sensor has a limit of 5 meters. so in order to account for false segmentation values thet may come\n",
    "    up due to this cutoff\"\"\"\n",
    "    depth_mask = np.squeeze(zi <= 4.5)\n",
    "    \n",
    "    #depth filtered camera_rgb_frame pixel coordinates\n",
    "    camera_rgb_frame_z = np.zeros_like(camera_rgb_frame)\n",
    "    camera_rgb_frame_z[depth_mask] = camera_rgb_frame[depth_mask] * zi[depth_mask]\n",
    "#     print(camera_rgb_frame_z)\n",
    "    \n",
    "    #convert camera_rgb_frame into homogenous dimension\n",
    "    ones = np.ones((z.shape[1],1))\n",
    "    camera_rgb_frame_homo = np.column_stack((camera_rgb_frame_z,ones))\n",
    "\n",
    "    #transform from canonical frame to optical frame ie camera frame\n",
    "    camera_frame = H @ camera_rgb_frame_homo.T\n",
    "\n",
    "    #transform from camera frame to map frame\n",
    "    map_frame = (n_r_t[i] @ camera_frame).T\n",
    "    \n",
    "    # Filtering out all the points that are outside a range of optical axis height\n",
    "    if(mask_height):\n",
    "        map_height_mask = (map_frame[:,2] <= 0.6675) & (map_frame[:,2] >= 0.0)\n",
    "        map_frame_masked = map_frame[map_height_mask]\n",
    "        map_frame_xy = map_frame_masked[:,[0,1]]\n",
    "\n",
    "        # print(np.unique(map_frame_xy))\n",
    "        # print(map_frame_xy.shape)\n",
    "        \n",
    "    #convert the coordinates from spatial coordinates (x,y) to ij coordinates to plot in occupancy grid\n",
    "    else:\n",
    "        map_frame_xy = map_frame[:,[0,1]]\n",
    "    map_frame_xy = map_frame_xy.copy(order='C')\n",
    "    map_frame_ij = map.xy_to_ij(map_frame_xy)\n",
    "    mask = occ_grid[map_frame_ij[:,0], map_frame_ij[:,1]] == 1\n",
    "    \n",
    "    label = np.load(labels[i])\n",
    "    for j in range(map_frame_ij.shape[0]):\n",
    "\n",
    "        if(mask[j]):\n",
    "            key = f\"key_{map_frame_ij[j,0]}_{map_frame_ij[j,1]}\"\n",
    "        \n",
    "            if (key in occ_labels):\n",
    "                # multiplying probabilities\n",
    "                '''since the probabilities are for the same pixel, i am considering the old probability as A and new \n",
    "                probability as B and  considering these two as dependent probabilities. \n",
    "                Now the probability of A and B is: P(A & B) =  P(A) * P(B). \n",
    "                So now probability of A given the new probability B is :\n",
    "                P(A|B) = P(A & B) / P(B)'''\n",
    "               \n",
    "                prob_A = occ_labels[key]\n",
    "                prob_B = label[j]\n",
    "                prob_A_and_B = [old_label * new_label for old_label, new_label in zip(occ_labels[key] , label[j])]\n",
    "                prob_A_given_B = [prob_a_and_b / prob_b for prob_a_and_b, prob_b in zip(prob_A_and_B, prob_B)]\n",
    "                occ_labels[key] = prob_A_given_B\n",
    "                \n",
    "                # adding probabilities\n",
    "#                 occ_labels[key]= [old_label + new_label for old_label, new_label in zip(occ_labels[key] , label[j])]\n",
    "#                 print(np.sum(occ_labels[key]))\n",
    "#                 prob_sum = np.sum(occ_labels[key])\n",
    "                # print(prob_sum)\n",
    "#                 occ_labels[key] = [probability / prob_sum for probability in occ_labels[key]]\n",
    " \n",
    "            else:\n",
    "                occ_labels[key] = label[j]\n",
    "                \n",
    "                \n",
    "#         for key in occ_labels.keys():\n",
    "#             occ_labels[key] = softmax(occ_labels[key])\n",
    "    \n",
    "    print(i)\n",
    "    "
   ]
  },
  {
   "cell_type": "markdown",
   "metadata": {},
   "source": [
    "### Creating set of colors for the labels"
   ]
  },
  {
   "cell_type": "code",
   "execution_count": null,
   "metadata": {},
   "outputs": [],
   "source": [
    "import random\n",
    "random.seed(1)\n",
    "def get_random_colors(num_colors):\n",
    "    colors = []\n",
    "    for _ in range(num_colors):\n",
    "        r = random.randint(0, 255)\n",
    "        g = random.randint(0, 255)\n",
    "        b = random.randint(0, 255)\n",
    "        colors.append((r, g, b))\n",
    "    return colors\n",
    "\n",
    "def plot_colors(colors, label_names):\n",
    "    num_colors = len(colors)\n",
    "    fig, ax = plt.subplots(figsize=(8, 5))\n",
    "    ax.set_xlim(0, num_colors)\n",
    "    ax.set_ylim(0, 1)\n",
    "    ax.set_yticks([])\n",
    "\n",
    "    for i, color in enumerate(colors):\n",
    "        # label = str(i)\n",
    "        normalized_color = (color[0] / 255, color[1] / 255, color[2] / 255)  # Normalize to range [0, 1]\n",
    "        ax.add_patch(plt.Rectangle((i, 0), 1, 1, color=normalized_color))\n",
    "        ax.text(i + 0.5, 0.5, label_names[i], color='white', ha='center', va='center', fontsize=12, rotation=90)\n",
    "\n",
    "    plt.savefig(\"color_labels.png\")\n",
    "    plt.show()\n",
    "\n"
   ]
  },
  {
   "cell_type": "markdown",
   "metadata": {},
   "source": [
    "#### SUNRGBD"
   ]
  },
  {
   "cell_type": "code",
   "execution_count": null,
   "metadata": {},
   "outputs": [],
   "source": [
    "num_labels = 37\n",
    "label_names = ['wall',\n",
    "  'floor',\n",
    "  'cabinet',\n",
    "  'bed',\n",
    "  'chair',\n",
    "  'sofa',\n",
    "  'table',\n",
    "  'door',\n",
    "  'window',\n",
    "  'bookshelf',\n",
    "  'picture',\n",
    "  'counter',\n",
    "  'blinds',\n",
    "  'desk',\n",
    "  'shelves',\n",
    "  'curtain',\n",
    "  'dresser',\n",
    "  'pillow',\n",
    "  'mirror',\n",
    "  'floor_mat',\n",
    "  'clothes',\n",
    "  'ceiling',\n",
    "  'books',\n",
    "  'fridge',\n",
    "  'tv',\n",
    "  'paper',\n",
    "  'towel',\n",
    "  'shower_curtain',\n",
    "  'box',\n",
    "  'whiteboard',\n",
    "  'person',\n",
    "  'night_stand',\n",
    "  'toilet',\n",
    "  'sink',\n",
    "  'lamp',\n",
    "  'bathtub',\n",
    "  'bag']\n",
    "unique_colors = get_random_colors(num_labels)"
   ]
  },
  {
   "cell_type": "markdown",
   "metadata": {},
   "source": [
    "#### NYUV2"
   ]
  },
  {
   "cell_type": "raw",
   "metadata": {},
   "source": [
    "# import scipy.io as sio\n",
    "# labls = sio.loadmat('/home/ajay/work/msc_project/git/nyuv2_labels/classMapping40.mat')\n",
    "# for i in (labls['className']):\n",
    "#     print(i)\n",
    "    \n",
    "num_labels = 40\n",
    "label_names = ['wall',\n",
    "  'floor',\n",
    "  'cabinet',\n",
    "  'bed',\n",
    "  'chair',\n",
    "  'sofa',\n",
    "  'table',\n",
    "  'door',\n",
    "  'window',\n",
    "  'bookshelf',\n",
    "  'picture',\n",
    "  'counter',\n",
    "  'blinds',\n",
    "  'desk',\n",
    "  'shelves',\n",
    "  'curtain',\n",
    "  'dresser',\n",
    "  'pillow',\n",
    "  'mirror',\n",
    "  'floor_mat',\n",
    "  'clothes',\n",
    "  'ceiling',\n",
    "  'books',\n",
    "  'refridgerator',\n",
    "  'television',\n",
    "  'paper',\n",
    "  'towel',\n",
    "  'shower_curtain',\n",
    "  'box',\n",
    "  'whiteboard',\n",
    "  'person',\n",
    "  'night_stand',\n",
    "  'toilet',\n",
    "  'sink',\n",
    "  'lamp',\n",
    "  'bathtub',\n",
    "  'bag',\n",
    "  'otherstructure',\n",
    "  'otherfurniture',\n",
    "  'otherprop']\n",
    "print(len(label_names))\n",
    "unique_colors = get_random_colors(num_labels)\n",
    "plot_colors(unique_colors, label_names)"
   ]
  },
  {
   "cell_type": "markdown",
   "metadata": {},
   "source": [
    "### assigning label to occupancy grid based on the highest probability"
   ]
  },
  {
   "cell_type": "code",
   "execution_count": null,
   "metadata": {},
   "outputs": [],
   "source": [
    "for i in range(occ_grid_colorized.shape[0]):\n",
    "    for j in range(occ_grid_colorized.shape[1]):\n",
    "        key = f'key_{i}_{j}'\n",
    "        if(key in occ_labels):\n",
    "            values = occ_labels[key]\n",
    "            values = softmax(values)\n",
    "            label_id = np.argmax(values)\n",
    "            occ_grid_colorized[i,j] = unique_colors[label_id]"
   ]
  },
  {
   "cell_type": "markdown",
   "metadata": {},
   "source": [
    "### plotting the colorized occupancy grid"
   ]
  },
  {
   "cell_type": "code",
   "execution_count": null,
   "metadata": {},
   "outputs": [],
   "source": [
    "plot_colors(unique_colors, label_names)\n",
    "plt.figure(figsize=(10,10))\n",
    "plt.imshow(occ_grid_colorized)\n",
    "# plt.savefig(\"../Results/seg_map/nyuv2_seg_map_dependent_probs.png\")"
   ]
  },
  {
   "cell_type": "markdown",
   "metadata": {},
   "source": [
    "### Assign labels to cells by most occuring label"
   ]
  },
  {
   "cell_type": "code",
   "execution_count": null,
   "metadata": {},
   "outputs": [],
   "source": [
    "occ_grid_colorized = np.ones((occ_grid.shape[0], occ_grid.shape[1], 3), np.uint8) * 255\n",
    "mask_height = False\n",
    "occ_labels = {}\n",
    "for i in range(z.shape[0]):\n",
    "    zi = z[i]\n",
    "    \n",
    "    #multiply depth\n",
    "    camera_rgb_frame_z = (camera_rgb_frame * zi)\n",
    "    \n",
    "    #convert camera_rgb_frame into homogenous dimension\n",
    "    ones = np.ones((z.shape[1],1))\n",
    "    camera_rgb_frame_homo = np.column_stack((camera_rgb_frame_z,ones))\n",
    "\n",
    "    #transform from canonical frame to optical frame ie camera frame\n",
    "    camera_frame = H @ camera_rgb_frame_homo.T\n",
    "\n",
    "    #transform from camera frame to map frame\n",
    "    map_frame = (n_r_t[i] @ camera_frame).T\n",
    "    # print((np.min(map_frame[:,2]) + np.max(map_frame[:,2]) / 2))\n",
    "    if(mask_height):\n",
    "        map_height_mask = (map_frame[:,2] <= 0.145) & (map_frame[:,2] >= 0.125)\n",
    "        map_frame_masked = map_frame[map_height_mask]\n",
    "        map_frame_xy = map_frame_masked[:,[0,1]]\n",
    "\n",
    "        # print(np.unique(map_frame_xy))\n",
    "        # print(map_frame_xy.shape)\n",
    "    #convert the coordinates from spatial coordinates (x,y) to ij coordinates to plot in occupancy grid\n",
    "    else:\n",
    "        map_frame_xy = map_frame[:,[0,1]]\n",
    "    map_frame_xy = map_frame_xy.copy(order='C')\n",
    "    map_frame_ij = map.xy_to_ij(map_frame_xy)\n",
    "    mask = occ_grid[map_frame_ij[:,0], map_frame_ij[:,1]] == 1\n",
    "    \n",
    "    # for j in range(occ_grid_colorized[map_frame_ij[:, 0], map_frame_ij[:, 1], :].shape[0]):\n",
    "    #     if(mask[j].all()):\n",
    "    #         # print(map_frame_ij[j, 0], map_frame_ij[j, 1])\n",
    "    #         occ_grid_colorized[map_frame_ij[j, 0], map_frame_ij[j, 1], :] = labels[i,j,:]\n",
    "    label = np.load(labels[i])\n",
    "    # print(label.shape)\n",
    "    for j in range(map_frame_ij.shape[0]):\n",
    "\n",
    "        if(mask[j]):\n",
    "            key = f\"key_{map_frame_ij[j,0]}_{map_frame_ij[j,1]}\"\n",
    "\n",
    "            if (key in occ_labels):\n",
    "                occ_labels[key]= np.vstack((occ_labels[key], np.argmax(label[j])))\n",
    "            else:\n",
    "                # print(np.argmax(label[j]))\n",
    "                occ_labels[key] = np.argmax(label[j])\n",
    "    print(i)"
   ]
  },
  {
   "cell_type": "code",
   "execution_count": null,
   "metadata": {},
   "outputs": [],
   "source": [
    "for i in range(occ_grid_colorized.shape[0]):\n",
    "    for j in range(occ_grid_colorized.shape[1]):\n",
    "        key = f'key_{i}_{j}'\n",
    "        if(key in occ_labels):\n",
    "            values = occ_labels[key]\n",
    "            unique_labels, count = np.unique(values, return_counts=True)\n",
    "            unique_idx = np.argmax(count)\n",
    "            unique_label = unique_labels[unique_idx]\n",
    "            # print(unique_label)\n",
    "            occ_grid_colorized[i, j, :] = unique_colors[unique_label]"
   ]
  },
  {
   "cell_type": "code",
   "execution_count": null,
   "metadata": {},
   "outputs": [],
   "source": [
    "plot_colors(unique_colors, label_names)\n",
    "plt.figure(figsize=(10,10))\n",
    "plt.imshow(occ_grid_colorized)\n",
    "plt.savefig(\"../Results/seg_map/seg_map_max_count.png\")"
   ]
  },
  {
   "cell_type": "markdown",
   "metadata": {},
   "source": [
    "### Viewing the polygon contours in the occupancy grid"
   ]
  },
  {
   "cell_type": "code",
   "execution_count": null,
   "metadata": {},
   "outputs": [],
   "source": [
    "contours = map.as_closed_obst_vertices_ij()\n",
    "plt.figure(figsize=(10,10))\n",
    "gridshow(occ_grid)\n",
    "plt.imshow(np.transpose(occ_grid_colorized, (1,0,2)), alpha=0.8)\n",
    "polygons = []\n",
    "for c in contours:\n",
    "    poly = Polygon(c)\n",
    "    polygons.append(poly)\n",
    "    plt.plot(*poly.exterior.xy)"
   ]
  },
  {
   "cell_type": "code",
   "execution_count": null,
   "metadata": {},
   "outputs": [],
   "source": [
    "occ_grid_poly_colorized = np.transpose(occ_grid_colorized,(1,0,2))\n",
    "occ_grid_poly_colorized = np.ones_like(occ_grid_poly_colorized) *255\n"
   ]
  },
  {
   "cell_type": "code",
   "execution_count": null,
   "metadata": {},
   "outputs": [],
   "source": [
    "occ_labels_in_poly = {}\n",
    "\n",
    "occ_labels_in_poly.keys()"
   ]
  },
  {
   "cell_type": "markdown",
   "metadata": {},
   "source": [
    "### labels based on polygon\n",
    "\n",
    "created a new dictionary to save all the labels for a given polygon (contour of occupancies) "
   ]
  },
  {
   "cell_type": "code",
   "execution_count": null,
   "metadata": {},
   "outputs": [],
   "source": [
    "\n",
    "for i in range(occ_grid_poly_colorized.shape[0]):\n",
    "    for j in range(occ_grid_poly_colorized.shape[1]):\n",
    "        keyij = f'key_{i}_{j}'\n",
    "        point = Point(np.array([[i,j]]))\n",
    "        if keyij in occ_labels:\n",
    "            for idx,polygon in enumerate(polygons):\n",
    "                key = f'{idx}'\n",
    "                \n",
    "                if (point.within(polygon)):\n",
    "                    if key in occ_labels_in_poly:\n",
    "                        print(f'labels: {len(occ_labels[keyij])}')\n",
    "                        occ_labels_in_poly[key] = np.vstack((occ_labels_in_poly[key],occ_labels[keyij]))\n",
    "                    else:\n",
    "                        print(f'labels: {len(occ_labels[keyij])}')\n",
    "                        occ_labels_in_poly[key] = np.array(occ_labels[keyij]).reshape([1,-1])\n",
    "                        \n",
    "        "
   ]
  },
  {
   "cell_type": "code",
   "execution_count": null,
   "metadata": {},
   "outputs": [],
   "source": [
    "occ_labels_in_poly.keys()"
   ]
  },
  {
   "cell_type": "code",
   "execution_count": null,
   "metadata": {},
   "outputs": [],
   "source": [
    "occ_labels_in_poly['38'].shape"
   ]
  },
  {
   "cell_type": "markdown",
   "metadata": {},
   "source": [
    "### assigning global label for a given polygon\n",
    "assumption is a polygon will represent a single object\n",
    "\n",
    "### method\n",
    "using the method of dependent probabilities for a given polygon"
   ]
  },
  {
   "cell_type": "code",
   "execution_count": null,
   "metadata": {},
   "outputs": [],
   "source": [
    "for key in occ_labels_in_poly:\n",
    "    print(f'key: {key}')\n",
    "    values =occ_labels_in_poly[key]\n",
    "    print(f'number of observations in polygon: {len(values)}')\n",
    "#     break\n",
    "#     print(len(values))\n",
    "    temp_label = []\n",
    "    value = values[0,:]\n",
    "    for i in range(1,values.shape[0]):\n",
    "        prob_A = value\n",
    "        prob_B = values[i,:]\n",
    "        prob_A_and_B = [A * B for A,B in zip(prob_A, prob_B)] \n",
    "        value = prob_A_and_B / prob_B \n",
    "        \n",
    "    value = softmax(value)    \n",
    "    poly_label = np.argmax(value)\n",
    "    print(f'polygon label: {poly_label}')\n",
    "    occ_labels_in_poly[key] = poly_label"
   ]
  },
  {
   "cell_type": "code",
   "execution_count": null,
   "metadata": {},
   "outputs": [],
   "source": [
    "for i in range(occ_grid_poly_colorized.shape[0]):\n",
    "    for j in range(occ_grid_poly_colorized.shape[1]):\n",
    "        keyij = f'key_{i}_{j}'\n",
    "        point = Point(np.array([[i,j]]))\n",
    "        if keyij in occ_labels:\n",
    "            for idx,polygon in enumerate(polygons):\n",
    "                key = f'{idx}'\n",
    "                if (point.within(polygon)):\n",
    "                    occ_grid_poly_colorized[i, j, :] = unique_colors[occ_labels_in_poly[key]]\n",
    "            "
   ]
  },
  {
   "cell_type": "code",
   "execution_count": null,
   "metadata": {},
   "outputs": [],
   "source": [
    "plot_colors(unique_colors, label_names)\n",
    "plt.figure(figsize=(10,10))\n",
    "plt.imshow(np.transpose(occ_grid_poly_colorized, (1,0,2)))\n",
    "# for c in contours:\n",
    "#     poly = Polygon(c)\n",
    "#     polygons.append(poly)\n",
    "#     plt.plot(*poly.exterior.xy)\n",
    "\n",
    "plt.savefig('../Results/seg_map/sunrgbd_seg_map_polygon_label_wo_polygons.png')"
   ]
  },
  {
   "cell_type": "markdown",
   "metadata": {},
   "source": [
    "#### Experiment on contours"
   ]
  },
  {
   "cell_type": "code",
   "execution_count": null,
   "metadata": {},
   "outputs": [],
   "source": [
    "import cv2\n",
    "gray = cv2.cvtColor(occ_grid_colorized, cv2.COLOR_RGB2GRAY)\n",
    "binary_mask = gray >125\n",
    "gray[binary_mask]  = 0\n",
    "gray[~binary_mask] = 1\n",
    "ret, thresh = cv2.threshold(gray, 11, 255,cv2.THRESH_BINARY)\n",
    "thresh = thresh.astype(np.uint8)\n",
    "kernel = np.ones((3,3),np.uint8)\n",
    "thresh = cv2.dilate(thresh, kernel, iterations=1)\n",
    "cv2_output = cv2.findContours(thresh,cv2.RETR_TREE,cv2.CHAIN_APPROX_SIMPLE)"
   ]
  },
  {
   "cell_type": "code",
   "execution_count": null,
   "metadata": {},
   "outputs": [],
   "source": [
    "len(cv2_output[1])"
   ]
  },
  {
   "cell_type": "code",
   "execution_count": null,
   "metadata": {},
   "outputs": [],
   "source": [
    "cont = cv2_output[0]\n",
    "contours = [np.vstack([c[:,0,1], c[:,0,0]]).T for c in cont]\n",
    "len(contours)"
   ]
  },
  {
   "cell_type": "code",
   "execution_count": null,
   "metadata": {},
   "outputs": [],
   "source": [
    "print(occ_grid)"
   ]
  },
  {
   "cell_type": "code",
   "execution_count": null,
   "metadata": {},
   "outputs": [],
   "source": [
    "print(np.unique(gray))"
   ]
  },
  {
   "cell_type": "code",
   "execution_count": null,
   "metadata": {},
   "outputs": [],
   "source": [
    "plt.imshow(gray, cmap='Greys')"
   ]
  },
  {
   "cell_type": "code",
   "execution_count": null,
   "metadata": {},
   "outputs": [],
   "source": [
    "poly = Polygon(contours[0])\n",
    "plt.plot(*poly.exterior.xy)"
   ]
  },
  {
   "cell_type": "markdown",
   "metadata": {},
   "source": [
    "### Annotation"
   ]
  },
  {
   "cell_type": "code",
   "execution_count": 43,
   "metadata": {},
   "outputs": [],
   "source": [
    "# load chairs mask\n",
    "\n",
    "chairs1 = 'masks/chairs_mask.png'\n",
    "chairs2 = 'masks/chairs1_mask.png'\n",
    "\n",
    "chairs1 = np.asarray(Image.open(chairs1))\n",
    "chairs2 = np.asarray(Image.open(chairs2))\n",
    "\n",
    "chairs = chairs1 + chairs2\n",
    "\n"
   ]
  },
  {
   "cell_type": "code",
   "execution_count": 19,
   "metadata": {},
   "outputs": [
    {
     "name": "stdout",
     "output_type": "stream",
     "text": [
      "(1000000, 4)\n"
     ]
    }
   ],
   "source": [
    "chairs_ = chairs.reshape(-1, chairs.shape[2]) # reshape the original image into -1, 3; -1 is placeholder, so lets say you have a \n",
    "                                     # numpy array with shape (6,2), if you reshape it to (-1, 3), we know the second dim = 3\n",
    "                                     # first dim = (6*2)/3 = 4, so -1 is replaced with 4\n",
    "print(chairs_.shape)\n",
    "\n",
    "counter, counts = np.unique(chairs_, axis=0, return_counts=True)"
   ]
  },
  {
   "cell_type": "code",
   "execution_count": 20,
   "metadata": {},
   "outputs": [
    {
     "name": "stdout",
     "output_type": "stream",
     "text": [
      "[[ 65 232 120 254]\n",
      " [136   2 168 254]]\n",
      "[ 45177 954823]\n"
     ]
    }
   ],
   "source": [
    "print(counter)\n",
    "print(counts)"
   ]
  },
  {
   "cell_type": "code",
   "execution_count": 38,
   "metadata": {},
   "outputs": [
    {
     "data": {
      "text/plain": [
       "array([[False, False, False, ..., False, False, False],\n",
       "       [False, False, False, ..., False, False, False],\n",
       "       [False, False, False, ..., False, False, False],\n",
       "       ...,\n",
       "       [False, False, False, ..., False, False, False],\n",
       "       [False, False, False, ..., False, False, False],\n",
       "       [False, False, False, ..., False, False, False]])"
      ]
     },
     "execution_count": 38,
     "metadata": {},
     "output_type": "execute_result"
    }
   ],
   "source": [
    "# mask = (chairs[:,:,:] == [65,232,120,254])\n",
    "mask = (chairs[:,:,0] == 65)\n",
    "mask"
   ]
  },
  {
   "cell_type": "code",
   "execution_count": 46,
   "metadata": {},
   "outputs": [
    {
     "data": {
      "text/plain": [
       "(1000, 1000, 4)"
      ]
     },
     "execution_count": 46,
     "metadata": {},
     "output_type": "execute_result"
    }
   ],
   "source": [
    "chairs.shape"
   ]
  },
  {
   "cell_type": "code",
   "execution_count": 48,
   "metadata": {},
   "outputs": [],
   "source": [
    "chairs[:,:,0][mask] = 172\n"
   ]
  },
  {
   "cell_type": "code",
   "execution_count": 49,
   "metadata": {},
   "outputs": [
    {
     "data": {
      "text/plain": [
       "array([[172, 232, 120, 254],\n",
       "       [172, 232, 120, 254],\n",
       "       [172, 232, 120, 254],\n",
       "       ...,\n",
       "       [172, 232, 120, 254],\n",
       "       [172, 232, 120, 254],\n",
       "       [172, 232, 120, 254]], dtype=uint8)"
      ]
     },
     "execution_count": 49,
     "metadata": {},
     "output_type": "execute_result"
    }
   ],
   "source": [
    "chairs[mask]"
   ]
  },
  {
   "cell_type": "code",
   "execution_count": 50,
   "metadata": {},
   "outputs": [
    {
     "data": {
      "text/plain": [
       "<matplotlib.image.AxesImage at 0x7f627ae31520>"
      ]
     },
     "execution_count": 50,
     "metadata": {},
     "output_type": "execute_result"
    },
    {
     "data": {
      "image/png": "[encoded data removed]",
      "text/plain": [
       "<Figure size 640x480 with 1 Axes>"
      ]
     },
     "metadata": {},
     "output_type": "display_data"
    }
   ],
   "source": [
    "plt.imshow(chairs)"
   ]
  }
 ],
 "metadata": {
  "kernelspec": {
   "display_name": "Python 3 (ipykernel)",
   "language": "python",
   "name": "python3"
  },
  "language_info": {
   "codemirror_mode": {
    "name": "ipython",
    "version": 3
   },
   "file_extension": ".py",
   "mimetype": "text/x-python",
   "name": "python",
   "nbconvert_exporter": "python",
   "pygments_lexer": "ipython3",
   "version": "3.8.17"
  }
 },
 "nbformat": 4,
 "nbformat_minor": 2
}
